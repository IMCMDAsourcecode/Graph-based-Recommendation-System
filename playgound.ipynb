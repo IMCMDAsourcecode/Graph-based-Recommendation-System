{
 "cells": [
  {
   "cell_type": "code",
   "execution_count": 2,
   "metadata": {},
   "outputs": [
    {
     "name": "stdout",
     "output_type": "stream",
     "text": [
      "Not using data whitening!\n",
      "Moving models to GPU.\n",
      "Iter (loss=2.041, rmse=0.876): 100%|########| 1000/1000 [00:43<00:00, 23.25it/s]\n",
      "Final training RMSE:  0.8759204745292664\n",
      "Test RMSE:  0.9478242581229622\n"
     ]
    }
   ],
   "source": [
    "!python3 run.py --train_flag 1 \\\n",
    "                --test_flag 1 \\\n",
    "                --rate_num 5 \\\n",
    "                --use_side_feature 0 \\\n",
    "                --lr 0.01 \\\n",
    "                --weight_decay 0.00001 \\\n",
    "                --num_epochs 1000 \\\n",
    "                --hidden_dim 5 \\\n",
    "                --side_hidden_dim 5 \\\n",
    "                --out_dim 5 \\\n",
    "                --drop_out 0.0 \\\n",
    "                --split_ratio 0.8 \\\n",
    "                --save_steps 100 \\\n",
    "                --verbal_steps 100 \\\n",
    "                --log_dir './log' \\\n",
    "                --saved_model_folder './parameters' \\\n",
    "                --use_data_whitening 0 "
   ]
  },
  {
   "cell_type": "code",
   "execution_count": null,
   "metadata": {},
   "outputs": [],
   "source": [
    "def epsilon_similarity_graph(X: np.ndarray, sigma=None, epsilon=0):\n",
    "    \"\"\" X (n x d): coordinates of the n data points in R^d.\n",
    "        sigma (float): width of the kernel\n",
    "        epsilon (float): threshold\n",
    "        Return:\n",
    "        adjacency (n x n ndarray): adjacency matrix of the graph.\n",
    "    \"\"\"\n",
    "    # Your code here\n",
    "    W = np.array([np.sum((X[i] - X)**2, axis = 1) for i in range(X.shape[0])])\n",
    "    typical_dist = np.mean(np.sqrt(W))\n",
    "    # print(np.mean(W))\n",
    "    c = 0.35\n",
    "    if sigma == None:\n",
    "        sigma = typical_dist * c\n",
    "    \n",
    "    mask = W >= epsilon\n",
    "    \n",
    "    adjacency = np.exp(- W / 2.0 / (sigma ** 2))\n",
    "    adjacency[mask] = 0.0\n",
    "    adjacency -= np.diag(np.diag(adjacency))\n",
    "    return adjacency"
   ]
  },
  {
   "cell_type": "code",
   "execution_count": null,
   "metadata": {},
   "outputs": [],
   "source": [
    "def compute_laplacian(adjacency: np.ndarray, normalize: bool):\n",
    "    \"\"\" Return:\n",
    "        L (n x n ndarray): combinatorial or symmetric normalized Laplacian.\n",
    "    \"\"\"\n",
    "    # Your code here\n",
    "    d = np.sum(adjacency, axis = 1)\n",
    "    d_sqrt = np.sqrt(d)  \n",
    "    D = np.diag(1 / d_sqrt)\n",
    "    if normalize:\n",
    "        L = np.eye(adjacency.shape[0]) - (adjacency.T / d_sqrt).T / d_sqrt\n",
    "        # L = np.dot(np.dot(D, np.diag(d) - adjacency), D)\n",
    "    else:\n",
    "        L = np.diag(d) - adjacency\n",
    "    return L"
   ]
  }
 ],
 "metadata": {
  "kernelspec": {
   "display_name": "Python 3",
   "language": "python",
   "name": "python3"
  },
  "language_info": {
   "codemirror_mode": {
    "name": "ipython",
    "version": 3
   },
   "file_extension": ".py",
   "mimetype": "text/x-python",
   "name": "python",
   "nbconvert_exporter": "python",
   "pygments_lexer": "ipython3",
   "version": "3.6.8"
  }
 },
 "nbformat": 4,
 "nbformat_minor": 4
}
