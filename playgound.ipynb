{
 "cells": [
  {
   "cell_type": "code",
   "execution_count": 1,
   "metadata": {},
   "outputs": [],
   "source": [
    "import os\n",
    "os.environ[\"CUDA_VISIBLE_DEVICES\"]=\"4\""
   ]
  },
  {
   "cell_type": "code",
   "execution_count": 61,
   "metadata": {},
   "outputs": [
    {
     "name": "stdout",
     "output_type": "stream",
     "text": [
      "Not using data whitening!\n",
      "Moving models to GPU.\n",
      "Iter (loss=2.032, rmse=0.916):   9%|8         | 87/1000 [00:05<00:53, 17.03it/s]^C\n",
      "Traceback (most recent call last):\n",
      "  File \"run.py\", line 280, in <module>\n",
      "    main(args)\n",
      "  File \"run.py\", line 240, in main\n",
      "    loss.backward()\n",
      "  File \"/home/mcui/.conda/envs/mingbo-env/lib/python3.7/site-packages/torch/tensor.py\", line 166, in backward\n",
      "    torch.autograd.backward(self, gradient, retain_graph, create_graph)\n",
      "  File \"/home/mcui/.conda/envs/mingbo-env/lib/python3.7/site-packages/torch/autograd/__init__.py\", line 99, in backward\n",
      "    allow_unreachable=True)  # allow_unreachable flag\n",
      "KeyboardInterrupt\n",
      "Iter (loss=2.032, rmse=0.916):   9%|8         | 87/1000 [00:06<01:03, 14.48it/s]\n"
     ]
    }
   ],
   "source": [
    "!python3 run.py --train_flag 1 \\\n",
    "                --test_flag 1 \\\n",
    "                --rate_num 5 \\\n",
    "                --lr 0.01 \\\n",
    "                --weight_decay 0.00001 \\\n",
    "                --num_epochs 1000 \\\n",
    "                --hidden_dim 5 \\\n",
    "                --side_hidden_dim 5 \\\n",
    "                --out_dim 5 \\\n",
    "                --drop_out 0.0 \\\n",
    "                --split_ratio 0.8 \\\n",
    "                --save_steps 100 \\\n",
    "                --log_dir './log' \\\n",
    "                --saved_model_folder './parameters' \\\n",
    "                --use_side_feature 0 \\\n",
    "                --use_data_whitening 0 \\\n",
    "                --use_laplacian_loss 1 \\\n",
    "                --laplacian_loss_weight 0.1"
   ]
  },
  {
   "cell_type": "code",
   "execution_count": null,
   "metadata": {},
   "outputs": [],
   "source": [
    "array_lr=()\n",
    "array_epochs=()\n",
    "array_hidden_dim=()\n",
    "array_side_hidden_dim=()\n",
    "array_dropout=()\n",
    "array_use_side_feature=()\n",
    "array_use_data_whitening=()\n",
    "array_use_laplacian_loss=()\n",
    "array_laplacian_loss_weight=()"
   ]
  },
  {
   "cell_type": "code",
   "execution_count": 60,
   "metadata": {},
   "outputs": [
    {
     "name": "stdout",
     "output_type": "stream",
     "text": [
      "here start\n",
      "##############################################################################################################################################################\n",
      "learning rate:0.001 epochs:2 hidden_dim:3 side_hidden_dim:3 dropout:0.1 use_side_feature:0 use_data_whitening:0 use_laplacian_loss:0 laplacian_loss_weight:0\n",
      "Iter (loss=2.940, rmse=1.251): 100%|##############| 2/2 [00:00<00:00,  2.17it/s]\n",
      "Not using data whitening!\n",
      "Moving models to GPU.\n",
      "Final training RMSE:  1.251462459564209\n",
      "Test RMSE:  1.2553751731633016\n",
      "##############################################################################################################################################################\n",
      "##############################################################################################################################################################\n",
      "learning rate:0.005 epochs:2 hidden_dim:3 side_hidden_dim:3 dropout:0.1 use_side_feature:0 use_data_whitening:0 use_laplacian_loss:0 laplacian_loss_weight:0\n",
      "Iter (loss=2.911, rmse=1.241): 100%|##############| 2/2 [00:01<00:00,  1.67it/s]\n",
      "Not using data whitening!\n",
      "Moving models to GPU.\n",
      "Final training RMSE:  1.2408634424209595\n",
      "Test RMSE:  1.245225500691646\n",
      "##############################################################################################################################################################\n"
     ]
    }
   ],
   "source": [
    "!bash run.sh -lr 0.01 -epochs 1000 -hidden_dim 3 5 8 -side_hidden_dim 3 5 8 -dropout 0 0.1 0.2 -use_side_feature 0 1 -use_data_whitening 0 1 -use_laplacian_loss 0 1 -laplacian_loss_weight 0.05 0.1 0.2 0.3 | tee -a gridsearch.txt"
   ]
  },
  {
   "cell_type": "code",
   "execution_count": null,
   "metadata": {},
   "outputs": [],
   "source": []
  }
 ],
 "metadata": {
  "kernelspec": {
   "display_name": "Python [conda env:.conda-mingbo-env] *",
   "language": "python",
   "name": "conda-env-.conda-mingbo-env-py"
  },
  "language_info": {
   "codemirror_mode": {
    "name": "ipython",
    "version": 3
   },
   "file_extension": ".py",
   "mimetype": "text/x-python",
   "name": "python",
   "nbconvert_exporter": "python",
   "pygments_lexer": "ipython3",
   "version": "3.7.4"
  }
 },
 "nbformat": 4,
 "nbformat_minor": 4
}
