{
 "cells": [
  {
   "cell_type": "code",
   "execution_count": 2,
   "metadata": {},
   "outputs": [
    {
     "name": "stdout",
     "output_type": "stream",
     "text": [
      "Not using data whitening!\n",
      "Moving models to GPU.\n",
      "Iter (loss=2.041, rmse=0.876): 100%|########| 1000/1000 [00:43<00:00, 23.25it/s]\n",
      "Final training RMSE:  0.8759204745292664\n",
      "Test RMSE:  0.9478242581229622\n"
     ]
    }
   ],
   "source": [
    "!python3 run.py --train_flag 1 \\\n",
    "                --test_flag 1 \\\n",
    "                --rate_num 5 \\\n",
    "                --use_side_feature 0 \\\n",
    "                --lr 0.01 \\\n",
    "                --weight_decay 0.00001 \\\n",
    "                --num_epochs 1000 \\\n",
    "                --hidden_dim 5 \\\n",
    "                --side_hidden_dim 5 \\\n",
    "                --out_dim 5 \\\n",
    "                --drop_out 0.0 \\\n",
    "                --split_ratio 0.8 \\\n",
    "                --save_steps 100 \\\n",
    "                --verbal_steps 100 \\\n",
    "                --log_dir './log' \\\n",
    "                --saved_model_folder './parameters' \\\n",
    "                --use_data_whitening 0 "
   ]
  },
  {
   "cell_type": "code",
   "execution_count": null,
   "metadata": {},
   "outputs": [],
   "source": []
  }
 ],
 "metadata": {
  "kernelspec": {
   "display_name": "Python [conda env:.conda-mingbo-env] *",
   "language": "python",
   "name": "conda-env-.conda-mingbo-env-py"
  },
  "language_info": {
   "codemirror_mode": {
    "name": "ipython",
    "version": 3
   },
   "file_extension": ".py",
   "mimetype": "text/x-python",
   "name": "python",
   "nbconvert_exporter": "python",
   "pygments_lexer": "ipython3",
   "version": "3.7.4"
  }
 },
 "nbformat": 4,
 "nbformat_minor": 4
}
