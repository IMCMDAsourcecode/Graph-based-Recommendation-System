{
 "cells": [
  {
   "cell_type": "code",
   "execution_count": 1,
   "metadata": {},
   "outputs": [],
   "source": [
    "import os\n",
    "os.environ[\"CUDA_VISIBLE_DEVICES\"]=\"0\""
   ]
  },
  {
   "cell_type": "code",
   "execution_count": null,
   "metadata": {},
   "outputs": [],
   "source": [
    "!python3 run.py --train_flag 1 \\\n",
    "                --test_flag 1 \\\n",
    "                --rate_num 5 \\\n",
    "                --lr 0.01 \\\n",
    "                --weight_decay 0.00001 \\\n",
    "                --num_epochs 1000 \\\n",
    "                --hidden_dim 5 \\\n",
    "                --side_hidden_dim 5 \\\n",
    "                --out_dim 5 \\\n",
    "                --drop_out 0.0 \\\n",
    "                --split_ratio 0.8 \\\n",
    "                --save_steps 100 \\\n",
    "                --log_dir './log' \\\n",
    "                --saved_model_folder './parameters' \\\n",
    "                --use_side_feature 0 \\\n",
    "                --use_data_whitening 0 \\\n",
    "                --use_laplacian_loss 1 \\\n",
    "                --laplacian_loss_weight 0.1"
   ]
  },
  {
   "cell_type": "code",
   "execution_count": null,
   "metadata": {},
   "outputs": [],
   "source": [
    "array_lr=()\n",
    "array_epochs=()\n",
    "array_hidden_dim=()\n",
    "array_side_hidden_dim=()\n",
    "array_dropout=()\n",
    "array_use_side_feature=()\n",
    "array_use_data_whitening=()\n",
    "array_use_laplacian_loss=()\n",
    "array_laplacian_loss_weight=()"
   ]
  },
  {
   "cell_type": "code",
   "execution_count": 3,
   "metadata": {},
   "outputs": [
    {
     "name": "stdout",
     "output_type": "stream",
     "text": [
      "here start\n",
      "##############################################################################################################################################################\n",
      "learning rate:0.01 epochs:1000 hidden_dim:5 side_hidden_dim:5 dropout:0 use_side_feature:0 use_data_whitening:0 use_laplacian_loss:0 laplacian_loss_weight:0.05\n",
      "Iter (loss=2.041, rmse=0.876): 100%|########| 1000/1000 [00:45<00:00, 21.78it/s]\n",
      "Not using data whitening!\n",
      "Moving models to GPU.\n",
      "Final training RMSE:  0.8759204745292664\n",
      "Test RMSE:  0.9478242581229622\n",
      "##############################################################################################################################################################\n",
      "##############################################################################################################################################################\n",
      "learning rate:0.01 epochs:1000 hidden_dim:5 side_hidden_dim:5 dropout:0 use_side_feature:0 use_data_whitening:0 use_laplacian_loss:1 laplacian_loss_weight:0.05\n",
      "Iter (loss=2.017, rmse=0.881): 100%|########| 1000/1000 [01:01<00:00, 16.36it/s]\n",
      "Not using data whitening!\n",
      "Moving models to GPU.\n",
      "Final training RMSE:  0.8813607692718506\n",
      "Test RMSE:  0.9414722337032402\n",
      "##############################################################################################################################################################\n",
      "##############################################################################################################################################################\n",
      "learning rate:0.01 epochs:1000 hidden_dim:5 side_hidden_dim:5 dropout:0 use_side_feature:0 use_data_whitening:1 use_laplacian_loss:0 laplacian_loss_weight:0.05\n",
      "Iter (loss=2.041, rmse=0.876): 100%|########| 1000/1000 [00:44<00:00, 22.52it/s]\n",
      "Using data whitening!\n",
      "Moving models to GPU.\n",
      "Final training RMSE:  0.8759204745292664\n",
      "Test RMSE:  0.9478242581229622\n",
      "##############################################################################################################################################################\n",
      "##############################################################################################################################################################\n",
      "learning rate:0.01 epochs:1000 hidden_dim:5 side_hidden_dim:5 dropout:0 use_side_feature:0 use_data_whitening:1 use_laplacian_loss:1 laplacian_loss_weight:0.05\n",
      "Iter (loss=2.011, rmse=0.881): 100%|########| 1000/1000 [00:59<00:00, 16.80it/s]\n",
      "Using data whitening!\n",
      "Moving models to GPU.\n",
      "Final training RMSE:  0.8805262446403503\n",
      "Test RMSE:  0.9417749919677408\n",
      "##############################################################################################################################################################\n",
      "##############################################################################################################################################################\n",
      "learning rate:0.01 epochs:1000 hidden_dim:5 side_hidden_dim:5 dropout:0 use_side_feature:1 use_data_whitening:0 use_laplacian_loss:0 laplacian_loss_weight:0.05\n",
      "Iter (loss=2.050, rmse=0.880): 100%|########| 1000/1000 [00:48<00:00, 20.69it/s]\n",
      "Not using data whitening!\n",
      "Moving models to GPU.\n",
      "Final training RMSE:  0.879640519618988\n",
      "Test RMSE:  0.9448115983185655\n",
      "##############################################################################################################################################################\n",
      "##############################################################################################################################################################\n",
      "learning rate:0.01 epochs:1000 hidden_dim:5 side_hidden_dim:5 dropout:0 use_side_feature:1 use_data_whitening:0 use_laplacian_loss:1 laplacian_loss_weight:0.05\n",
      "Iter (loss=2.033, rmse=0.893): 100%|########| 1000/1000 [01:04<00:00, 15.60it/s]\n",
      "Not using data whitening!\n",
      "Moving models to GPU.\n",
      "Final training RMSE:  0.893226683139801\n",
      "Test RMSE:  0.9471744191860264\n",
      "##############################################################################################################################################################\n",
      "##############################################################################################################################################################\n",
      "learning rate:0.01 epochs:1000 hidden_dim:5 side_hidden_dim:5 dropout:0 use_side_feature:1 use_data_whitening:1 use_laplacian_loss:0 laplacian_loss_weight:0.05\n",
      "Iter (loss=2.056, rmse=0.889): 100%|########| 1000/1000 [00:48<00:00, 20.73it/s]\n",
      "Using data whitening!\n",
      "Moving models to GPU.\n",
      "Final training RMSE:  0.8892594575881958\n",
      "Test RMSE:  0.9568438499411025\n",
      "##############################################################################################################################################################\n",
      "##############################################################################################################################################################\n",
      "learning rate:0.01 epochs:1000 hidden_dim:5 side_hidden_dim:5 dropout:0 use_side_feature:1 use_data_whitening:1 use_laplacian_loss:1 laplacian_loss_weight:0.05\n",
      "Iter (loss=2.005, rmse=0.879): 100%|########| 1000/1000 [01:03<00:00, 15.72it/s]\n",
      "Using data whitening!\n",
      "Moving models to GPU.\n",
      "Final training RMSE:  0.8794013857841492\n",
      "Test RMSE:  0.9379964955759144\n",
      "##############################################################################################################################################################\n"
     ]
    }
   ],
   "source": [
    "!bash run.sh -lr 0.01 -epochs 1000 -hidden_dim 5 -side_hidden_dim 5 -dropout 0 -use_side_feature 0 1 -use_data_whitening 0 1 -use_laplacian_loss 0 1 -laplacian_loss_weight 0.05 | tee -a ablation.txt"
   ]
  },
  {
   "cell_type": "code",
   "execution_count": null,
   "metadata": {},
   "outputs": [],
   "source": []
  }
 ],
 "metadata": {
  "kernelspec": {
   "display_name": "Python [conda env:.conda-mingbo-env] *",
   "language": "python",
   "name": "conda-env-.conda-mingbo-env-py"
  },
  "language_info": {
   "codemirror_mode": {
    "name": "ipython",
    "version": 3
   },
   "file_extension": ".py",
   "mimetype": "text/x-python",
   "name": "python",
   "nbconvert_exporter": "python",
   "pygments_lexer": "ipython3",
   "version": "3.7.4"
  }
 },
 "nbformat": 4,
 "nbformat_minor": 4
}
