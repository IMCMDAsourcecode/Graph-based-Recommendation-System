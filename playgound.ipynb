{
 "cells": [
  {
   "cell_type": "code",
   "execution_count": 1,
   "metadata": {},
   "outputs": [],
   "source": [
    "import os\n",
    "os.environ[\"CUDA_VISIBLE_DEVICES\"]=\"4\""
   ]
  },
  {
   "cell_type": "code",
   "execution_count": null,
   "metadata": {},
   "outputs": [],
   "source": [
    "!python3 train.py --rate_num 5 \\\n",
    "                --lr 0.01 \\\n",
    "                --weight_decay 0.00001 \\\n",
    "                --num_epochs 1000 \\\n",
    "                --hidden_dim 5 \\\n",
    "                --side_hidden_dim 5 \\\n",
    "                --out_dim 5 \\\n",
    "                --drop_out 0.0 \\\n",
    "                --split_ratio 0.8 \\\n",
    "                --save_steps 100 \\\n",
    "                --log_dir './log' \\\n",
    "                --saved_model_folder './weights' \\\n",
    "                --dataset_path './ml-100k' \\\n",
    "                --save_processed_data_path './processed_dataset' \\\n",
    "                --use_side_feature 1 \\\n",
    "                --use_data_whitening 1 \\\n",
    "                --use_laplacian_loss 1 \\\n",
    "                --laplacian_loss_weight 0.05"
   ]
  },
  {
   "cell_type": "code",
   "execution_count": null,
   "metadata": {},
   "outputs": [],
   "source": []
  }
 ],
 "metadata": {
  "kernelspec": {
   "display_name": "Python [conda env:.conda-mingbo-env] *",
   "language": "python",
   "name": "conda-env-.conda-mingbo-env-py"
  },
  "language_info": {
   "codemirror_mode": {
    "name": "ipython",
    "version": 3
   },
   "file_extension": ".py",
   "mimetype": "text/x-python",
   "name": "python",
   "nbconvert_exporter": "python",
   "pygments_lexer": "ipython3",
   "version": "3.7.4"
  }
 },
 "nbformat": 4,
 "nbformat_minor": 4
}
