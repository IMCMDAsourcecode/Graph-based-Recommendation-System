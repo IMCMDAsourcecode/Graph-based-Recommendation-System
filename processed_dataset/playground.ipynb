{
 "cells": [
  {
   "cell_type": "code",
   "execution_count": 2,
   "metadata": {},
   "outputs": [],
   "source": [
    "import pandas as pd \n",
    "import numpy as np "
   ]
  },
  {
   "cell_type": "code",
   "execution_count": 5,
   "metadata": {},
   "outputs": [],
   "source": [
    "user_item_matrix = np.load('./user_item_matrix.npy')"
   ]
  },
  {
   "cell_type": "code",
   "execution_count": 6,
   "metadata": {},
   "outputs": [
    {
     "data": {
      "text/plain": [
       "(943, 1682)"
      ]
     },
     "execution_count": 6,
     "metadata": {},
     "output_type": "execute_result"
    }
   ],
   "source": [
    "user_item_matrix.shape"
   ]
  },
  {
   "cell_type": "code",
   "execution_count": 7,
   "metadata": {},
   "outputs": [],
   "source": [
    "# rating 1\n",
    "user_item_matrix_rating_1 = user_item_matrix[user_item_matrix==1]\n",
    "# rating 2\n",
    "user_item_matrix_rating_1 = user_item_matrix[user_item_matrix==2]\n",
    "# rating 3\n",
    "user_item_matrix_rating_1 = user_item_matrix[user_item_matrix==3]\n",
    "# rating 4\n",
    "user_item_matrix_rating_1 = user_item_matrix[user_item_matrix==4]\n",
    "# rating 5\n",
    "user_item_matrix_rating_1 = user_item_matrix[user_item_matrix==5]"
   ]
  },
  {
   "cell_type": "code",
   "execution_count": null,
   "metadata": {},
   "outputs": [],
   "source": []
  }
 ],
 "metadata": {
  "kernelspec": {
   "display_name": "Python 3",
   "language": "python",
   "name": "python3"
  },
  "language_info": {
   "codemirror_mode": {
    "name": "ipython",
    "version": 3
   },
   "file_extension": ".py",
   "mimetype": "text/x-python",
   "name": "python",
   "nbconvert_exporter": "python",
   "pygments_lexer": "ipython3",
   "version": "3.7.4"
  }
 },
 "nbformat": 4,
 "nbformat_minor": 4
}
