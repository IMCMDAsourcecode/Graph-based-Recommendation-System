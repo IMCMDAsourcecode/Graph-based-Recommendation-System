{
 "cells": [
  {
   "cell_type": "code",
   "execution_count": 1,
   "metadata": {},
   "outputs": [
    {
     "name": "stdout",
     "output_type": "stream",
     "text": [
      "Not using data whitening!\n",
      "Moving models to GPU.\n",
      "Iter (loss=2.075, rmse=0.889):  14%|#2       | 142/1000 [00:06<00:36, 23.60it/s]^C\n",
      "Traceback (most recent call last):\n",
      "  File \"run.py\", line 214, in <module>\n",
      "    main(args)\n",
      "  File \"run.py\", line 174, in main\n",
      "    loss.backward()\n",
      "  File \"/home/mcui/.conda/envs/mingbo-env/lib/python3.7/site-packages/torch/tensor.py\", line 166, in backward\n",
      "    torch.autograd.backward(self, gradient, retain_graph, create_graph)\n",
      "  File \"/home/mcui/.conda/envs/mingbo-env/lib/python3.7/site-packages/torch/autograd/__init__.py\", line 99, in backward\n",
      "    allow_unreachable=True)  # allow_unreachable flag\n",
      "KeyboardInterrupt\n",
      "Iter (loss=2.075, rmse=0.889):  14%|#2       | 142/1000 [00:07<00:42, 20.01it/s]\n"
     ]
    }
   ],
   "source": [
    "!python3 run.py --train_flag 1 \\\n",
    "                --test_flag 1 \\\n",
    "                --rate_num 5 \\\n",
    "                --use_side_feature 0 \\\n",
    "                --lr 0.01 \\\n",
    "                --weight_decay 0.00001 \\\n",
    "                --num_epochs 1000 \\\n",
    "                --hidden_dim 5 \\\n",
    "                --side_hidden_dim 5 \\\n",
    "                --out_dim 5 \\\n",
    "                --drop_out 0.0 \\\n",
    "                --split_ratio 0.8 \\\n",
    "                --save_steps 100 \\\n",
    "                --verbal_steps 100 \\\n",
    "                --log_dir './log' \\\n",
    "                --use_data_whitening 0 \\\n",
    "                --saved_model_folder './parameters'"
   ]
  },
  {
   "cell_type": "code",
   "execution_count": 3,
   "metadata": {},
   "outputs": [
    {
     "name": "stderr",
     "output_type": "stream",
     "text": [
      "usage: ipykernel_launcher.py [-h] [--do-something]\n",
      "ipykernel_launcher.py: error: unrecognized arguments: -f /home/mcui/.local/share/jupyter/runtime/kernel-62cc9164-bdf5-4a98-a1f0-5697b57d3e21.json\n"
     ]
    },
    {
     "ename": "SystemExit",
     "evalue": "2",
     "output_type": "error",
     "traceback": [
      "An exception has occurred, use %tb to see the full traceback.\n",
      "\u001b[0;31mSystemExit\u001b[0m\u001b[0;31m:\u001b[0m 2\n"
     ]
    }
   ],
   "source": [
    "import argparse\n",
    "parser = argparse.ArgumentParser(description=\"Parse bool\")\n",
    "parser.add_argument(\"--do-something\", default=False, action=\"store_true\" , help=\"Flag to do something\")\n",
    "args = parser.parse_args()"
   ]
  },
  {
   "cell_type": "code",
   "execution_count": 2,
   "metadata": {},
   "outputs": [
    {
     "name": "stderr",
     "output_type": "stream",
     "text": [
      "usage: ipykernel_launcher.py [-h] [--do-something]\n",
      "ipykernel_launcher.py: error: unrecognized arguments: -f /home/mcui/.local/share/jupyter/runtime/kernel-62cc9164-bdf5-4a98-a1f0-5697b57d3e21.json\n"
     ]
    },
    {
     "ename": "SystemExit",
     "evalue": "2",
     "output_type": "error",
     "traceback": [
      "An exception has occurred, use %tb to see the full traceback.\n",
      "\u001b[0;31mSystemExit\u001b[0m\u001b[0;31m:\u001b[0m 2\n"
     ]
    },
    {
     "name": "stderr",
     "output_type": "stream",
     "text": [
      "/home/mcui/.conda/envs/mingbo-env/lib/python3.7/site-packages/IPython/core/interactiveshell.py:3334: UserWarning: To exit: use 'exit', 'quit', or Ctrl-D.\n",
      "  warn(\"To exit: use 'exit', 'quit', or Ctrl-D.\", stacklevel=1)\n"
     ]
    }
   ],
   "source": [
    "if args.do_something:\n",
    "     print(\"Do something\")\n",
    "else:\n",
    "     print(\"Don't do something\")\n",
    "print(\"Check that args.do_something=\" + str(args.do_something) + \" is always a bool\")"
   ]
  },
  {
   "cell_type": "code",
   "execution_count": 2,
   "metadata": {},
   "outputs": [
    {
     "name": "stdout",
     "output_type": "stream",
     "text": [
      "data  events.out.tfevents.1577731957.iccluster130  test.txt\n"
     ]
    }
   ],
   "source": [
    "!ls log/2019-12-30-19-52-37"
   ]
  },
  {
   "cell_type": "code",
   "execution_count": 3,
   "metadata": {},
   "outputs": [
    {
     "name": "stdout",
     "output_type": "stream",
     "text": [
      "Serving TensorBoard on localhost; to expose to the network, use a proxy or pass --bind_all\n",
      "TensorBoard 2.0.0 at http://localhost:6006/ (Press CTRL+C to quit)\n",
      "W1230 20:00:07.656136 140169814472448 core_plugin.py:191] Unable to get first event timestamp for run .: No event timestamp could be found\n",
      "W1230 20:00:07.660135 140169814472448 core_plugin.py:191] Unable to get first event timestamp for run data/scalar_group/loss: No event timestamp could be found\n",
      "W1230 20:00:07.664142 140169814472448 core_plugin.py:191] Unable to get first event timestamp for run data/scalar_group/rmse: No event timestamp could be found\n",
      "^C\n"
     ]
    }
   ],
   "source": [
    "!tensorboard --logdir=./log/2019-12-30-19-52-37"
   ]
  },
  {
   "cell_type": "code",
   "execution_count": null,
   "metadata": {},
   "outputs": [],
   "source": [
    "        global_step = 0 # global iteration steps regardless of epochs\n",
    "        for e in range(self.cfg.n_epochs):\n",
    "            loss_sum = 0. # the sum of iteration losses to get average loss in every epoch\n",
    "            iter_bar = tqdm(self.data_iter, desc='Iter (loss=X.XXX)')\n",
    "            for i, batch in enumerate(iter_bar):\n",
    "                batch = [t.to(self.device) for t in batch]\n",
    "\n",
    "                self.optimizer.zero_grad()\n",
    "                loss = get_loss(model, self.discriminator_model, batch, global_step).mean() # mean() for Data Parallelism\n",
    "                loss.backward()\n",
    "                self.optimizer.step()\n",
    "\n",
    "                global_step += 1\n",
    "                loss_sum += loss.item()\n",
    "                iter_bar.set_description('Iter (loss=%5.3f)'%loss.item())\n",
    "\n",
    "                if global_step % self.cfg.save_steps == 0: # save\n",
    "                    print(\"I have saved it!\")\n",
    "                    self.save(global_step)\n",
    "\n",
    "                if self.cfg.total_steps and self.cfg.total_steps < global_step:\n",
    "                    print('Epoch %d/%d : Average Loss %5.3f'%(e+1, self.cfg.n_epochs, loss_sum/(i+1)))\n",
    "                    print('The Total Steps have been reached.')\n",
    "                    self.save(global_step) # save and finish when global_steps reach total_steps\n",
    "                    return\n",
    "\n",
    "            print('Epoch %d/%d : Average Loss %5.3f'%(e+1, self.cfg.n_epochs, loss_sum/(i+1)))\n",
    "        self.save(global_step)"
   ]
  }
 ],
 "metadata": {
  "kernelspec": {
   "display_name": "Python [conda env:.conda-mingbo-env] *",
   "language": "python",
   "name": "conda-env-.conda-mingbo-env-py"
  },
  "language_info": {
   "codemirror_mode": {
    "name": "ipython",
    "version": 3
   },
   "file_extension": ".py",
   "mimetype": "text/x-python",
   "name": "python",
   "nbconvert_exporter": "python",
   "pygments_lexer": "ipython3",
   "version": "3.7.4"
  }
 },
 "nbformat": 4,
 "nbformat_minor": 4
}
